{
 "cells": [
  {
   "cell_type": "markdown",
   "metadata": {
    "id": "jADVpwcxiVQO"
   },
   "source": [
    "Original dataset => https://www.kaggle.com/kazanova/sentiment140"
   ]
  },
  {
   "cell_type": "code",
   "execution_count": 1,
   "metadata": {
    "id": "T7fIqyEVdpQR"
   },
   "outputs": [],
   "source": [
    "import tensorflow as tf\n",
    "import csv\n",
    "import random\n",
    "import numpy as np\n",
    "import os\n",
    "import pandas as pd\n",
    "from tensorflow.keras.preprocessing.text import Tokenizer\n",
    "from tensorflow.keras.preprocessing.sequence import pad_sequences\n",
    "import urllib.request"
   ]
  },
  {
   "cell_type": "code",
   "execution_count": 2,
   "metadata": {
    "colab": {
     "base_uri": "https://localhost:8080/"
    },
    "id": "Vml0FEnMdpQb",
    "outputId": "1d788f05-08eb-4098-d350-7ba84410f790"
   },
   "outputs": [
    {
     "name": "stdout",
     "output_type": "stream",
     "text": [
      "training_cleaned.csv exists\n"
     ]
    }
   ],
   "source": [
    "trainig_file = 'training_cleaned.csv'\n",
    "if os.path.isfile(trainig_file):\n",
    "    print(trainig_file + \" exists\")\n",
    "# You can download it manually from => 'https://drive.google.com/uc?id=1wd8KaeCSHxt-nEpMeuHFSNWrDp8joUXJ'"
   ]
  },
  {
   "cell_type": "code",
   "execution_count": 3,
   "metadata": {},
   "outputs": [],
   "source": [
    "corpus = []\n",
    "with open('training_cleaned.csv') as csvfile:\n",
    "    reader = csv.reader(csvfile, delimiter=',')\n",
    "    for col in reader:\n",
    "        list_item=[]\n",
    "        list_item.append(col[5]) #Get sentence from col[5]\n",
    "        this_label=col[0] #Get label from col[0] \n",
    "        if this_label=='0':\n",
    "            list_item.append(0) \n",
    "        else:\n",
    "            list_item.append(1)\n",
    "        corpus.append(list_item) # list of the sentence with labels ['sentence', label]"
   ]
  },
  {
   "cell_type": "code",
   "execution_count": 4,
   "metadata": {
    "id": "hezrdgmTdsfd"
   },
   "outputs": [],
   "source": [
    "embedding_dim = 100\n",
    "max_length = 16\n",
    "trunc_type='post'\n",
    "padding_type='post'\n",
    "oov_tok = \"<OOV>\"\n",
    "training_size=1600000\n",
    "test_portion=.1"
   ]
  },
  {
   "cell_type": "markdown",
   "metadata": {},
   "source": [
    "# This cell will take time "
   ]
  },
  {
   "cell_type": "code",
   "execution_count": 5,
   "metadata": {},
   "outputs": [],
   "source": [
    "sentences = []\n",
    "labels = []\n",
    "random.shuffle(corpus)\n",
    "for i in range(training_size):\n",
    "    sentences.append(corpus[i][0])\n",
    "    labels.append(corpus[i][1])\n",
    "    \n",
    "tokenizer = Tokenizer()\n",
    "tokenizer.fit_on_texts(sentences)\n",
    "\n",
    "word_index = tokenizer.word_index #Dict {\"word\":index}\n",
    "vocab_size=len(word_index)\n",
    "\n",
    "sequences = tokenizer.texts_to_sequences(sentences)\n",
    "padded = pad_sequences(sequences, maxlen=max_length, truncating=trunc_type, padding=padding_type)\n",
    "\n",
    "sequences = tokenizer.texts_to_sequences(sentences)\n",
    "padded = pad_sequences(sequences, maxlen=max_length, truncating=trunc_type, padding=padding_type)\n",
    "\n",
    "# Split Data\n",
    "split = int(test_portion * training_size)\n",
    "test_sequences = padded[0:split]\n",
    "training_sequences = padded[split:training_size]\n",
    "test_labels = labels[0:split]\n",
    "training_labels = labels[split:training_size]"
   ]
  },
  {
   "cell_type": "code",
   "execution_count": 6,
   "metadata": {
    "colab": {
     "base_uri": "https://localhost:8080/"
    },
    "id": "XQ9bvudhOxi0",
    "outputId": "468a58a2-db56-430d-df2f-f22745019e0b"
   },
   "outputs": [
    {
     "name": "stdout",
     "output_type": "stream",
     "text": [
      "We have 1600000 sentences.\n",
      "For example: \n",
      " So today is officially June! Very tired. Still sick. Not really looking forward to class. Can't I take my bed with me? \n",
      "The same sentence after convert it to numbers: \n",
      " [15, 40, 8, 912, 577, 120, 182, 73, 187, 24, 63, 218, 397, 2, 445, 69, 1, 173, 5, 143, 21, 14]\n",
      "Sentence with padding: \n",
      " [ 15  40   8 912 577 120 182  73 187  24  63 218 397   2 445  69]\n"
     ]
    }
   ],
   "source": [
    "print('We have {} sentences.'.format(len(sentences)))\n",
    "print('For example: \\n',sentences[1])\n",
    "print('The same sentence after convert it to numbers: \\n',sequences[1])\n",
    "print('Sentence with padding: \\n',padded[1])"
   ]
  },
  {
   "cell_type": "code",
   "execution_count": 8,
   "metadata": {
    "colab": {
     "base_uri": "https://localhost:8080/"
    },
    "id": "UddzvnMEdpQ-",
    "outputId": "f824f9d7-d362-42b1-f93a-cfa693db89a3"
   },
   "outputs": [
    {
     "name": "stdout",
     "output_type": "stream",
     "text": [
      "glove.6B.100d.txt exists\n"
     ]
    }
   ],
   "source": [
    "glove_file = 'glove.6B.100d.txt'\n",
    "if os.path.isfile(glove_file):\n",
    "    print(glove_file + \" exists\")\n",
    "# You can download it manually from => 'https://drive.google.com/uc?id=1W5vZy2etitAblLdFn8_DxnsQKzfFJ98g'"
   ]
  },
  {
   "cell_type": "code",
   "execution_count": 9,
   "metadata": {
    "id": "pm0i89imdpRF"
   },
   "outputs": [],
   "source": [
    "embeddings_index = {}\n",
    "with open('glove.6B.100d.txt') as f: # vector representations for words [word, 100 features]\n",
    "    for line in f:\n",
    "        values = line.split()\n",
    "        word = values[0]\n",
    "        try:\n",
    "            coefs = np.asarray(values[1:], dtype='float32')\n",
    "            embeddings_index[word] = coefs\n",
    "        except ValueError:\n",
    "            continue"
   ]
  },
  {
   "cell_type": "code",
   "execution_count": 10,
   "metadata": {
    "colab": {
     "base_uri": "https://localhost:8080/"
    },
    "id": "zSP1YneUdpRK",
    "outputId": "c4376ab1-1b94-4b44-8daa-870aa200a41e"
   },
   "outputs": [
    {
     "name": "stdout",
     "output_type": "stream",
     "text": [
      "690966\n"
     ]
    }
   ],
   "source": [
    "embedding_matrix = np.zeros((vocab_size+1, embedding_dim))\n",
    "for word,i in word_index.items():\n",
    "    embedding_vector = embeddings_index.get(word)\n",
    "    if embedding_vector is not None:\n",
    "        embedding_matrix[i] = embedding_vector # Matrix of representation of words [1600000, 100]\n",
    "print(len(embedding_matrix))"
   ]
  },
  {
   "cell_type": "code",
   "execution_count": 11,
   "metadata": {
    "colab": {
     "base_uri": "https://localhost:8080/"
    },
    "id": "-oNJmUCkdpRN",
    "outputId": "dc1ba05c-5459-46a1-d44d-a0ef1ba92f59"
   },
   "outputs": [
    {
     "name": "stdout",
     "output_type": "stream",
     "text": [
      "Model: \"sequential\"\n",
      "_________________________________________________________________\n",
      " Layer (type)                Output Shape              Param #   \n",
      "=================================================================\n",
      " embedding (Embedding)       (None, 16, 100)           69096600  \n",
      "                                                                 \n",
      " dropout (Dropout)           (None, 16, 100)           0         \n",
      "                                                                 \n",
      " conv1d (Conv1D)             (None, 12, 64)            32064     \n",
      "                                                                 \n",
      " max_pooling1d (MaxPooling1D  (None, 3, 64)            0         \n",
      " )                                                               \n",
      "                                                                 \n",
      " lstm (LSTM)                 (None, 64)                33024     \n",
      "                                                                 \n",
      " dense (Dense)               (None, 1)                 65        \n",
      "                                                                 \n",
      "=================================================================\n",
      "Total params: 69,161,753\n",
      "Trainable params: 65,153\n",
      "Non-trainable params: 69,096,600\n",
      "_________________________________________________________________\n"
     ]
    }
   ],
   "source": [
    "model = tf.keras.Sequential([\n",
    "    tf.keras.layers.Embedding(vocab_size+1, embedding_dim, input_length=max_length,weights=[embedding_matrix], trainable=False),\n",
    "    tf.keras.layers.Dropout(0.2),\n",
    "    tf.keras.layers.Conv1D(64, 5, activation='relu'),\n",
    "    tf.keras.layers.MaxPooling1D(pool_size=4),\n",
    "    tf.keras.layers.LSTM(64),\n",
    "    tf.keras.layers.Dense(1, activation='sigmoid')\n",
    "])\n",
    "model.compile(optimizer='adam', loss='binary_crossentropy', metrics=['accuracy'])\n",
    "model.summary()"
   ]
  },
  {
   "cell_type": "code",
   "execution_count": 13,
   "metadata": {
    "colab": {
     "base_uri": "https://localhost:8080/",
     "height": 1000
    },
    "id": "u4VLVO51dpRZ",
    "outputId": "3adcad32-e8b8-4134-ed26-b5e5498cd248"
   },
   "outputs": [
    {
     "name": "stdout",
     "output_type": "stream",
     "text": [
      "Epoch 1/50\n",
      "45000/45000 [==============================] - 470s 10ms/step - loss: 0.5397 - accuracy: 0.7205 - val_loss: 0.5053 - val_accuracy: 0.7477\n",
      "Epoch 2/50\n",
      "45000/45000 [==============================] - 425s 9ms/step - loss: 0.5152 - accuracy: 0.7397 - val_loss: 0.4954 - val_accuracy: 0.7542\n",
      "Epoch 3/50\n",
      "45000/45000 [==============================] - 497s 11ms/step - loss: 0.5081 - accuracy: 0.7442 - val_loss: 0.4909 - val_accuracy: 0.7574\n",
      "Epoch 4/50\n",
      "45000/45000 [==============================] - 505s 11ms/step - loss: 0.5048 - accuracy: 0.7468 - val_loss: 0.4910 - val_accuracy: 0.7578\n",
      "Epoch 5/50\n",
      "45000/45000 [==============================] - 625s 14ms/step - loss: 0.5022 - accuracy: 0.7488 - val_loss: 0.4895 - val_accuracy: 0.7586\n",
      "Epoch 6/50\n",
      "45000/45000 [==============================] - 654s 15ms/step - loss: 0.5006 - accuracy: 0.7502 - val_loss: 0.4868 - val_accuracy: 0.7598\n",
      "Epoch 7/50\n",
      "45000/45000 [==============================] - 523s 12ms/step - loss: 0.4991 - accuracy: 0.7509 - val_loss: 0.4863 - val_accuracy: 0.7598\n",
      "Epoch 8/50\n",
      "45000/45000 [==============================] - 552s 12ms/step - loss: 0.4982 - accuracy: 0.7519 - val_loss: 0.4856 - val_accuracy: 0.7614\n",
      "Epoch 9/50\n",
      "45000/45000 [==============================] - 493s 11ms/step - loss: 0.4977 - accuracy: 0.7521 - val_loss: 0.4862 - val_accuracy: 0.7600\n",
      "Epoch 10/50\n",
      "45000/45000 [==============================] - 447s 10ms/step - loss: 0.4972 - accuracy: 0.7528 - val_loss: 0.4859 - val_accuracy: 0.7606\n",
      "Epoch 11/50\n",
      "45000/45000 [==============================] - 395s 9ms/step - loss: 0.4970 - accuracy: 0.7528 - val_loss: 0.4854 - val_accuracy: 0.7613\n",
      "Epoch 12/50\n",
      "45000/45000 [==============================] - 365s 8ms/step - loss: 0.4963 - accuracy: 0.7536 - val_loss: 0.4848 - val_accuracy: 0.7613\n",
      "Epoch 13/50\n",
      "45000/45000 [==============================] - 358s 8ms/step - loss: 0.4961 - accuracy: 0.7537 - val_loss: 0.4839 - val_accuracy: 0.7626\n",
      "Epoch 14/50\n",
      "45000/45000 [==============================] - 361s 8ms/step - loss: 0.4956 - accuracy: 0.7541 - val_loss: 0.4830 - val_accuracy: 0.7629\n",
      "Epoch 15/50\n",
      "45000/45000 [==============================] - 362s 8ms/step - loss: 0.4956 - accuracy: 0.7540 - val_loss: 0.4838 - val_accuracy: 0.7618\n",
      "Epoch 16/50\n",
      "45000/45000 [==============================] - 360s 8ms/step - loss: 0.4959 - accuracy: 0.7537 - val_loss: 0.4842 - val_accuracy: 0.7624\n",
      "Epoch 17/50\n",
      "45000/45000 [==============================] - 342s 8ms/step - loss: 0.4954 - accuracy: 0.7545 - val_loss: 0.4826 - val_accuracy: 0.7620\n",
      "Epoch 18/50\n",
      "45000/45000 [==============================] - 324s 7ms/step - loss: 0.4949 - accuracy: 0.7548 - val_loss: 0.4828 - val_accuracy: 0.7630\n",
      "Epoch 19/50\n",
      "45000/45000 [==============================] - 323s 7ms/step - loss: 0.4949 - accuracy: 0.7547 - val_loss: 0.4822 - val_accuracy: 0.7628\n",
      "Epoch 20/50\n",
      "45000/45000 [==============================] - 334s 7ms/step - loss: 0.4956 - accuracy: 0.7545 - val_loss: 0.4831 - val_accuracy: 0.7629\n",
      "Epoch 21/50\n",
      "45000/45000 [==============================] - 327s 7ms/step - loss: 0.4948 - accuracy: 0.7548 - val_loss: 0.4843 - val_accuracy: 0.7616\n",
      "Epoch 22/50\n",
      "45000/45000 [==============================] - 333s 7ms/step - loss: 0.4948 - accuracy: 0.7546 - val_loss: 0.4825 - val_accuracy: 0.7630\n",
      "Epoch 23/50\n",
      "45000/45000 [==============================] - 328s 7ms/step - loss: 0.4950 - accuracy: 0.7547 - val_loss: 0.4831 - val_accuracy: 0.7630\n",
      "Epoch 24/50\n",
      "45000/45000 [==============================] - 326s 7ms/step - loss: 0.4947 - accuracy: 0.7549 - val_loss: 0.4829 - val_accuracy: 0.7624\n",
      "Epoch 25/50\n",
      "45000/45000 [==============================] - 323s 7ms/step - loss: 0.4949 - accuracy: 0.7550 - val_loss: 0.4836 - val_accuracy: 0.7626\n",
      "Epoch 26/50\n",
      "45000/45000 [==============================] - 329s 7ms/step - loss: 0.4949 - accuracy: 0.7544 - val_loss: 0.4837 - val_accuracy: 0.7624\n",
      "Epoch 27/50\n",
      "45000/45000 [==============================] - 323s 7ms/step - loss: 0.4952 - accuracy: 0.7546 - val_loss: 0.4841 - val_accuracy: 0.7609\n",
      "Epoch 28/50\n",
      "45000/45000 [==============================] - 395s 9ms/step - loss: 0.4951 - accuracy: 0.7544 - val_loss: 0.4833 - val_accuracy: 0.7619\n",
      "Epoch 29/50\n",
      "45000/45000 [==============================] - 409s 9ms/step - loss: 0.4951 - accuracy: 0.7549 - val_loss: 0.4829 - val_accuracy: 0.7626\n",
      "Epoch 30/50\n",
      "45000/45000 [==============================] - 418s 9ms/step - loss: 0.4953 - accuracy: 0.7548 - val_loss: 0.4834 - val_accuracy: 0.7634\n",
      "Epoch 31/50\n",
      "45000/45000 [==============================] - 399s 9ms/step - loss: 0.4949 - accuracy: 0.7549 - val_loss: 0.4840 - val_accuracy: 0.7620\n",
      "Epoch 32/50\n",
      "45000/45000 [==============================] - 397s 9ms/step - loss: 0.4950 - accuracy: 0.7546 - val_loss: 0.4845 - val_accuracy: 0.7626\n",
      "Epoch 33/50\n",
      "45000/45000 [==============================] - 331s 7ms/step - loss: 0.4949 - accuracy: 0.7552 - val_loss: 0.4837 - val_accuracy: 0.7622\n",
      "Epoch 34/50\n",
      "45000/45000 [==============================] - 322s 7ms/step - loss: 0.4949 - accuracy: 0.7552 - val_loss: 0.4841 - val_accuracy: 0.7623\n",
      "Epoch 35/50\n",
      "45000/45000 [==============================] - 321s 7ms/step - loss: 0.4954 - accuracy: 0.7548 - val_loss: 0.4835 - val_accuracy: 0.7619\n",
      "Epoch 36/50\n",
      "45000/45000 [==============================] - 317s 7ms/step - loss: 0.4950 - accuracy: 0.7551 - val_loss: 0.4832 - val_accuracy: 0.7631\n",
      "Epoch 37/50\n",
      "45000/45000 [==============================] - 315s 7ms/step - loss: 0.4951 - accuracy: 0.7550 - val_loss: 0.4838 - val_accuracy: 0.7623\n",
      "Epoch 38/50\n",
      "45000/45000 [==============================] - 314s 7ms/step - loss: 0.4953 - accuracy: 0.7551 - val_loss: 0.4829 - val_accuracy: 0.7630\n",
      "Epoch 39/50\n",
      "45000/45000 [==============================] - 316s 7ms/step - loss: 0.4959 - accuracy: 0.7542 - val_loss: 0.4839 - val_accuracy: 0.7626\n",
      "Epoch 40/50\n",
      "45000/45000 [==============================] - 317s 7ms/step - loss: 0.4956 - accuracy: 0.7546 - val_loss: 0.4838 - val_accuracy: 0.7621\n",
      "Epoch 41/50\n",
      "45000/45000 [==============================] - 316s 7ms/step - loss: 0.4953 - accuracy: 0.7546 - val_loss: 0.4837 - val_accuracy: 0.7625\n",
      "Epoch 42/50\n",
      "45000/45000 [==============================] - 320s 7ms/step - loss: 0.4958 - accuracy: 0.7544 - val_loss: 0.4838 - val_accuracy: 0.7630\n",
      "Epoch 43/50\n",
      "45000/45000 [==============================] - 324s 7ms/step - loss: 0.4957 - accuracy: 0.7545 - val_loss: 0.4843 - val_accuracy: 0.7621\n",
      "Epoch 44/50\n",
      "45000/45000 [==============================] - 323s 7ms/step - loss: 0.4959 - accuracy: 0.7548 - val_loss: 0.4844 - val_accuracy: 0.7624\n",
      "Epoch 45/50\n",
      "45000/45000 [==============================] - 321s 7ms/step - loss: 0.4968 - accuracy: 0.7540 - val_loss: 0.4846 - val_accuracy: 0.7618\n",
      "Epoch 46/50\n",
      "45000/45000 [==============================] - 321s 7ms/step - loss: 0.4964 - accuracy: 0.7544 - val_loss: 0.4841 - val_accuracy: 0.7632\n",
      "Epoch 47/50\n",
      "45000/45000 [==============================] - 323s 7ms/step - loss: 0.4965 - accuracy: 0.7542 - val_loss: 0.4853 - val_accuracy: 0.7618\n",
      "Epoch 48/50\n",
      "45000/45000 [==============================] - 325s 7ms/step - loss: 0.4967 - accuracy: 0.7541 - val_loss: 0.4853 - val_accuracy: 0.7616\n",
      "Epoch 49/50\n",
      "45000/45000 [==============================] - 316s 7ms/step - loss: 0.4969 - accuracy: 0.7540 - val_loss: 0.4864 - val_accuracy: 0.7611\n",
      "Epoch 50/50\n",
      "45000/45000 [==============================] - 317s 7ms/step - loss: 0.4966 - accuracy: 0.7542 - val_loss: 0.4846 - val_accuracy: 0.7630\n"
     ]
    }
   ],
   "source": [
    "epochs = 50\n",
    "history = model.fit(x=np.array(training_sequences),\n",
    "                    y=np.array(training_labels),\n",
    "                    epochs=epochs,\n",
    "                    validation_data=(np.array(test_sequences), np.array(test_labels)), verbose=1)\n"
   ]
  },
  {
   "cell_type": "code",
   "execution_count": 15,
   "metadata": {},
   "outputs": [
    {
     "name": "stderr",
     "output_type": "stream",
     "text": [
      "WARNING:absl:Found untraced functions such as lstm_cell_layer_call_fn, lstm_cell_layer_call_and_return_conditional_losses, lstm_cell_layer_call_fn, lstm_cell_layer_call_and_return_conditional_losses, lstm_cell_layer_call_and_return_conditional_losses while saving (showing 5 of 5). These functions will not be directly callable after loading.\n"
     ]
    },
    {
     "name": "stdout",
     "output_type": "stream",
     "text": [
      "INFO:tensorflow:Assets written to: weight\\assets\n"
     ]
    },
    {
     "name": "stderr",
     "output_type": "stream",
     "text": [
      "INFO:tensorflow:Assets written to: weight\\assets\n",
      "WARNING:absl:<keras.layers.recurrent.LSTMCell object at 0x0000025E1056EEE0> has the same name 'LSTMCell' as a built-in Keras object. Consider renaming <class 'keras.layers.recurrent.LSTMCell'> to avoid naming conflicts when loading with `tf.keras.models.load_model`. If renaming is not possible, pass the object in the `custom_objects` parameter of the load function.\n"
     ]
    }
   ],
   "source": [
    "model.save('weight')"
   ]
  },
  {
   "cell_type": "code",
   "execution_count": 16,
   "metadata": {},
   "outputs": [],
   "source": [
    "model.save('weight.h5')"
   ]
  },
  {
   "cell_type": "code",
   "execution_count": 24,
   "metadata": {
    "colab": {
     "base_uri": "https://localhost:8080/",
     "height": 607
    },
    "id": "jhP14eyAdpRf",
    "outputId": "2c2d4e53-2f75-4b83-91f6-1d9373b1657b"
   },
   "outputs": [
    {
     "data": {
      "text/plain": [
       "<Figure size 432x288 with 0 Axes>"
      ]
     },
     "execution_count": 24,
     "metadata": {},
     "output_type": "execute_result"
    },
    {
     "data": {
      "image/png": "[encoded data removed]",
      "text/plain": [
       "<Figure size 432x288 with 1 Axes>"
      ]
     },
     "metadata": {
      "needs_background": "light"
     },
     "output_type": "display_data"
    },
    {
     "data": {
      "image/png": "[encoded data removed]",
      "text/plain": [
       "<Figure size 432x288 with 1 Axes>"
      ]
     },
     "metadata": {
      "needs_background": "light"
     },
     "output_type": "display_data"
    },
    {
     "data": {
      "text/plain": [
       "<Figure size 432x288 with 0 Axes>"
      ]
     },
     "metadata": {},
     "output_type": "display_data"
    }
   ],
   "source": [
    "import matplotlib.image  as mpimg\n",
    "import matplotlib.pyplot as plt\n",
    "\n",
    "#-----------------------------------------------------------\n",
    "# Retrieve a list of list results on training and test data\n",
    "# sets for each training epoch\n",
    "#-----------------------------------------------------------\n",
    "acc=history.history['accuracy']\n",
    "val_acc=history.history['val_accuracy']\n",
    "loss=history.history['loss']\n",
    "val_loss=history.history['val_loss']\n",
    "\n",
    "epochs=range(len(acc)) # Get number of epochs\n",
    "\n",
    "#------------------------------------------------\n",
    "# Plot training and validation accuracy per epoch\n",
    "#------------------------------------------------\n",
    "plt.plot(epochs, acc, 'r')\n",
    "plt.plot(epochs, val_acc, 'b')\n",
    "plt.title('Training and validation accuracy')\n",
    "plt.xlabel(\"Epochs\")\n",
    "plt.ylabel(\"Accuracy\")\n",
    "plt.legend([\"Training Accuracy\", \"Validation Accuracy\"])\n",
    "\n",
    "plt.figure()\n",
    "\n",
    "#------------------------------------------------\n",
    "# Plot training and validation loss per epoch\n",
    "#------------------------------------------------\n",
    "plt.plot(epochs, loss, 'r')\n",
    "plt.plot(epochs, val_loss, 'b')\n",
    "plt.title('Training and validation loss')\n",
    "plt.xlabel(\"Epochs\")\n",
    "plt.ylabel(\"Loss\")\n",
    "plt.legend([\"Training Loss\", \"Validation Loss\"])\n",
    "\n",
    "plt.figure()\n",
    "\n",
    "\n",
    "# Expected Output\n",
    "# A chart where the validation loss does not increase sharply!"
   ]
  },
  {
   "cell_type": "markdown",
   "metadata": {},
   "source": [
    "# Evaluation"
   ]
  },
  {
   "cell_type": "code",
   "execution_count": 71,
   "metadata": {},
   "outputs": [],
   "source": [
    "x_test = np.array(test_sequences)\n",
    "y_true = np.array(test_labels)\n",
    "prediction = model.predict(x_test)\n",
    "y_pred = [1 if x>0.5 else 0 for x in prediction]"
   ]
  },
  {
   "cell_type": "code",
   "execution_count": 112,
   "metadata": {},
   "outputs": [],
   "source": [
    "ones = sum(y_pred)\n",
    "zeros = 160000-ones"
   ]
  },
  {
   "cell_type": "code",
   "execution_count": 106,
   "metadata": {},
   "outputs": [
    {
     "data": {
      "text/plain": [
       "array([[61303, 18818],\n",
       "       [19098, 60781]], dtype=int64)"
      ]
     },
     "execution_count": 106,
     "metadata": {},
     "output_type": "execute_result"
    }
   ],
   "source": [
    "from sklearn.metrics import confusion_matrix\n",
    "confusion_matrix(y_true, y_pred)"
   ]
  },
  {
   "cell_type": "code",
   "execution_count": 99,
   "metadata": {},
   "outputs": [
    {
     "data": {
      "image/png": "[encoded data removed]",
      "text/plain": [
       "<Figure size 432x288 with 2 Axes>"
      ]
     },
     "metadata": {
      "needs_background": "light"
     },
     "output_type": "display_data"
    }
   ],
   "source": [
    "from sklearn.metrics import ConfusionMatrixDisplay\n",
    "from sklearn.metrics import confusion_matrix\n",
    "import matplotlib.pyplot as plt\n",
    "cm = confusion_matrix(y_true, y_pred)\n",
    "labels = [\"0\", \"1\"]\n",
    "disp = ConfusionMatrixDisplay(confusion_matrix=cm, display_labels=labels)\n",
    "disp.plot(cmap=plt.cm.Blues)\n",
    "plt.show()"
   ]
  },
  {
   "cell_type": "code",
   "execution_count": 96,
   "metadata": {},
   "outputs": [
    {
     "name": "stdout",
     "output_type": "stream",
     "text": [
      "Accuracy =  0.763025\n",
      "Precision =  0.7624656409746148\n",
      "Recall =  0.7651302405112268\n",
      "F1 Score =  0.7637956168001895\n"
     ]
    }
   ],
   "source": [
    "acc = 122084/(61303+18818+19098+60781)\n",
    "print('Accuracy = ',acc)\n",
    "precision = 61303/(61303+19098)\n",
    "print('Precision = ', precision)\n",
    "recall = 61303/(61303+18818)\n",
    "print('Recall = ', recall)\n",
    "f1_score = (2 * precision * recall) / (precision+recall)\n",
    "print('F1 Score = ',f1_score)"
   ]
  },
  {
   "cell_type": "code",
   "execution_count": 98,
   "metadata": {},
   "outputs": [
    {
     "name": "stdout",
     "output_type": "stream",
     "text": [
      "Accuracy =  0.763025\n",
      "Recall =  0.7630218110003648\n",
      "Precision =  0.7630278179118981\n",
      "F1 Score =  0.7630224776334686\n"
     ]
    }
   ],
   "source": [
    "from sklearn.metrics import precision_recall_fscore_support\n",
    "precision, recall, f1_score, _ =  precision_recall_fscore_support(y_true, y_pred, average='macro')\n",
    "print('Accuracy = ',acc)\n",
    "print('Recall = ', recall)\n",
    "print('Precision = ', precision)\n",
    "print('F1 Score = ',f1_score)"
   ]
  },
  {
   "cell_type": "code",
   "execution_count": 78,
   "metadata": {},
   "outputs": [
    {
     "data": {
      "text/plain": [
       "0.7630236470064582"
      ]
     },
     "execution_count": 78,
     "metadata": {},
     "output_type": "execute_result"
    }
   ],
   "source": [
    "from sklearn.metrics import f1_score\n",
    "f1_score(y_true, y_pred, average='weighted')"
   ]
  },
  {
   "cell_type": "code",
   "execution_count": 74,
   "metadata": {
    "collapsed": true
   },
   "outputs": [
    {
     "ename": "InvalidArgumentError",
     "evalue": "cannot compute AddV2 as input #1(zero-based) was expected to be a int32 tensor but is a float tensor [Op:AddV2]",
     "output_type": "error",
     "traceback": [
      "\u001b[1;31m---------------------------------------------------------------------------\u001b[0m",
      "\u001b[1;31mInvalidArgumentError\u001b[0m                      Traceback (most recent call last)",
      "\u001b[1;32m<ipython-input-74-4d78e378f8d7>\u001b[0m in \u001b[0;36m<module>\u001b[1;34m\u001b[0m\n\u001b[0;32m     32\u001b[0m \u001b[1;33m\u001b[0m\u001b[0m\n\u001b[0;32m     33\u001b[0m \u001b[1;33m\u001b[0m\u001b[0m\n\u001b[1;32m---> 34\u001b[1;33m \u001b[0mf1\u001b[0m\u001b[1;33m(\u001b[0m\u001b[0my_true\u001b[0m\u001b[1;33m,\u001b[0m \u001b[0my_pred\u001b[0m\u001b[1;33m)\u001b[0m\u001b[1;33m\u001b[0m\u001b[1;33m\u001b[0m\u001b[0m\n\u001b[0m",
      "\u001b[1;32m<ipython-input-74-4d78e378f8d7>\u001b[0m in \u001b[0;36mf1\u001b[1;34m(y_true, y_pred)\u001b[0m\n\u001b[0;32m     27\u001b[0m         \u001b[0mprecision\u001b[0m \u001b[1;33m=\u001b[0m \u001b[0mtrue_positives\u001b[0m \u001b[1;33m/\u001b[0m \u001b[1;33m(\u001b[0m\u001b[0mpredicted_positives\u001b[0m \u001b[1;33m+\u001b[0m \u001b[0mK\u001b[0m\u001b[1;33m.\u001b[0m\u001b[0mepsilon\u001b[0m\u001b[1;33m(\u001b[0m\u001b[1;33m)\u001b[0m\u001b[1;33m)\u001b[0m\u001b[1;33m\u001b[0m\u001b[1;33m\u001b[0m\u001b[0m\n\u001b[0;32m     28\u001b[0m         \u001b[1;32mreturn\u001b[0m \u001b[0mprecision\u001b[0m\u001b[1;33m\u001b[0m\u001b[1;33m\u001b[0m\u001b[0m\n\u001b[1;32m---> 29\u001b[1;33m     \u001b[0mprecision\u001b[0m \u001b[1;33m=\u001b[0m \u001b[0mprecision\u001b[0m\u001b[1;33m(\u001b[0m\u001b[0my_true\u001b[0m\u001b[1;33m,\u001b[0m \u001b[0my_pred\u001b[0m\u001b[1;33m)\u001b[0m\u001b[1;33m\u001b[0m\u001b[1;33m\u001b[0m\u001b[0m\n\u001b[0m\u001b[0;32m     30\u001b[0m     \u001b[0mrecall\u001b[0m \u001b[1;33m=\u001b[0m \u001b[0mrecall\u001b[0m\u001b[1;33m(\u001b[0m\u001b[0my_true\u001b[0m\u001b[1;33m,\u001b[0m \u001b[0my_pred\u001b[0m\u001b[1;33m)\u001b[0m\u001b[1;33m\u001b[0m\u001b[1;33m\u001b[0m\u001b[0m\n\u001b[0;32m     31\u001b[0m     \u001b[1;32mreturn\u001b[0m \u001b[1;36m2\u001b[0m\u001b[1;33m*\u001b[0m\u001b[1;33m(\u001b[0m\u001b[1;33m(\u001b[0m\u001b[0mprecision\u001b[0m\u001b[1;33m*\u001b[0m\u001b[0mrecall\u001b[0m\u001b[1;33m)\u001b[0m\u001b[1;33m/\u001b[0m\u001b[1;33m(\u001b[0m\u001b[0mprecision\u001b[0m\u001b[1;33m+\u001b[0m\u001b[0mrecall\u001b[0m\u001b[1;33m+\u001b[0m\u001b[0mK\u001b[0m\u001b[1;33m.\u001b[0m\u001b[0mepsilon\u001b[0m\u001b[1;33m(\u001b[0m\u001b[1;33m)\u001b[0m\u001b[1;33m)\u001b[0m\u001b[1;33m)\u001b[0m\u001b[1;33m\u001b[0m\u001b[1;33m\u001b[0m\u001b[0m\n",
      "\u001b[1;32m<ipython-input-74-4d78e378f8d7>\u001b[0m in \u001b[0;36mprecision\u001b[1;34m(y_true, y_pred)\u001b[0m\n\u001b[0;32m     25\u001b[0m         \u001b[0mtrue_positives\u001b[0m \u001b[1;33m=\u001b[0m \u001b[0mK\u001b[0m\u001b[1;33m.\u001b[0m\u001b[0msum\u001b[0m\u001b[1;33m(\u001b[0m\u001b[0mK\u001b[0m\u001b[1;33m.\u001b[0m\u001b[0mround\u001b[0m\u001b[1;33m(\u001b[0m\u001b[0mK\u001b[0m\u001b[1;33m.\u001b[0m\u001b[0mclip\u001b[0m\u001b[1;33m(\u001b[0m\u001b[0my_true\u001b[0m \u001b[1;33m*\u001b[0m \u001b[0my_pred\u001b[0m\u001b[1;33m,\u001b[0m \u001b[1;36m0\u001b[0m\u001b[1;33m,\u001b[0m \u001b[1;36m1\u001b[0m\u001b[1;33m)\u001b[0m\u001b[1;33m)\u001b[0m\u001b[1;33m)\u001b[0m\u001b[1;33m\u001b[0m\u001b[1;33m\u001b[0m\u001b[0m\n\u001b[0;32m     26\u001b[0m         \u001b[0mpredicted_positives\u001b[0m \u001b[1;33m=\u001b[0m \u001b[0mK\u001b[0m\u001b[1;33m.\u001b[0m\u001b[0msum\u001b[0m\u001b[1;33m(\u001b[0m\u001b[0mK\u001b[0m\u001b[1;33m.\u001b[0m\u001b[0mround\u001b[0m\u001b[1;33m(\u001b[0m\u001b[0mK\u001b[0m\u001b[1;33m.\u001b[0m\u001b[0mclip\u001b[0m\u001b[1;33m(\u001b[0m\u001b[0my_pred\u001b[0m\u001b[1;33m,\u001b[0m \u001b[1;36m0\u001b[0m\u001b[1;33m,\u001b[0m \u001b[1;36m1\u001b[0m\u001b[1;33m)\u001b[0m\u001b[1;33m)\u001b[0m\u001b[1;33m)\u001b[0m\u001b[1;33m\u001b[0m\u001b[1;33m\u001b[0m\u001b[0m\n\u001b[1;32m---> 27\u001b[1;33m         \u001b[0mprecision\u001b[0m \u001b[1;33m=\u001b[0m \u001b[0mtrue_positives\u001b[0m \u001b[1;33m/\u001b[0m \u001b[1;33m(\u001b[0m\u001b[0mpredicted_positives\u001b[0m \u001b[1;33m+\u001b[0m \u001b[0mK\u001b[0m\u001b[1;33m.\u001b[0m\u001b[0mepsilon\u001b[0m\u001b[1;33m(\u001b[0m\u001b[1;33m)\u001b[0m\u001b[1;33m)\u001b[0m\u001b[1;33m\u001b[0m\u001b[1;33m\u001b[0m\u001b[0m\n\u001b[0m\u001b[0;32m     28\u001b[0m         \u001b[1;32mreturn\u001b[0m \u001b[0mprecision\u001b[0m\u001b[1;33m\u001b[0m\u001b[1;33m\u001b[0m\u001b[0m\n\u001b[0;32m     29\u001b[0m     \u001b[0mprecision\u001b[0m \u001b[1;33m=\u001b[0m \u001b[0mprecision\u001b[0m\u001b[1;33m(\u001b[0m\u001b[0my_true\u001b[0m\u001b[1;33m,\u001b[0m \u001b[0my_pred\u001b[0m\u001b[1;33m)\u001b[0m\u001b[1;33m\u001b[0m\u001b[1;33m\u001b[0m\u001b[0m\n",
      "\u001b[1;32m~\\anaconda3\\lib\\site-packages\\tensorflow\\python\\util\\traceback_utils.py\u001b[0m in \u001b[0;36merror_handler\u001b[1;34m(*args, **kwargs)\u001b[0m\n\u001b[0;32m    151\u001b[0m     \u001b[1;32mexcept\u001b[0m \u001b[0mException\u001b[0m \u001b[1;32mas\u001b[0m \u001b[0me\u001b[0m\u001b[1;33m:\u001b[0m\u001b[1;33m\u001b[0m\u001b[1;33m\u001b[0m\u001b[0m\n\u001b[0;32m    152\u001b[0m       \u001b[0mfiltered_tb\u001b[0m \u001b[1;33m=\u001b[0m \u001b[0m_process_traceback_frames\u001b[0m\u001b[1;33m(\u001b[0m\u001b[0me\u001b[0m\u001b[1;33m.\u001b[0m\u001b[0m__traceback__\u001b[0m\u001b[1;33m)\u001b[0m\u001b[1;33m\u001b[0m\u001b[1;33m\u001b[0m\u001b[0m\n\u001b[1;32m--> 153\u001b[1;33m       \u001b[1;32mraise\u001b[0m \u001b[0me\u001b[0m\u001b[1;33m.\u001b[0m\u001b[0mwith_traceback\u001b[0m\u001b[1;33m(\u001b[0m\u001b[0mfiltered_tb\u001b[0m\u001b[1;33m)\u001b[0m \u001b[1;32mfrom\u001b[0m \u001b[1;32mNone\u001b[0m\u001b[1;33m\u001b[0m\u001b[1;33m\u001b[0m\u001b[0m\n\u001b[0m\u001b[0;32m    154\u001b[0m     \u001b[1;32mfinally\u001b[0m\u001b[1;33m:\u001b[0m\u001b[1;33m\u001b[0m\u001b[1;33m\u001b[0m\u001b[0m\n\u001b[0;32m    155\u001b[0m       \u001b[1;32mdel\u001b[0m \u001b[0mfiltered_tb\u001b[0m\u001b[1;33m\u001b[0m\u001b[1;33m\u001b[0m\u001b[0m\n",
      "\u001b[1;32m~\\anaconda3\\lib\\site-packages\\tensorflow\\python\\framework\\ops.py\u001b[0m in \u001b[0;36mraise_from_not_ok_status\u001b[1;34m(e, name)\u001b[0m\n\u001b[0;32m   7105\u001b[0m \u001b[1;32mdef\u001b[0m \u001b[0mraise_from_not_ok_status\u001b[0m\u001b[1;33m(\u001b[0m\u001b[0me\u001b[0m\u001b[1;33m,\u001b[0m \u001b[0mname\u001b[0m\u001b[1;33m)\u001b[0m\u001b[1;33m:\u001b[0m\u001b[1;33m\u001b[0m\u001b[1;33m\u001b[0m\u001b[0m\n\u001b[0;32m   7106\u001b[0m   \u001b[0me\u001b[0m\u001b[1;33m.\u001b[0m\u001b[0mmessage\u001b[0m \u001b[1;33m+=\u001b[0m \u001b[1;33m(\u001b[0m\u001b[1;34m\" name: \"\u001b[0m \u001b[1;33m+\u001b[0m \u001b[0mname\u001b[0m \u001b[1;32mif\u001b[0m \u001b[0mname\u001b[0m \u001b[1;32mis\u001b[0m \u001b[1;32mnot\u001b[0m \u001b[1;32mNone\u001b[0m \u001b[1;32melse\u001b[0m \u001b[1;34m\"\"\u001b[0m\u001b[1;33m)\u001b[0m\u001b[1;33m\u001b[0m\u001b[1;33m\u001b[0m\u001b[0m\n\u001b[1;32m-> 7107\u001b[1;33m   \u001b[1;32mraise\u001b[0m \u001b[0mcore\u001b[0m\u001b[1;33m.\u001b[0m\u001b[0m_status_to_exception\u001b[0m\u001b[1;33m(\u001b[0m\u001b[0me\u001b[0m\u001b[1;33m)\u001b[0m \u001b[1;32mfrom\u001b[0m \u001b[1;32mNone\u001b[0m  \u001b[1;31m# pylint: disable=protected-access\u001b[0m\u001b[1;33m\u001b[0m\u001b[1;33m\u001b[0m\u001b[0m\n\u001b[0m\u001b[0;32m   7108\u001b[0m \u001b[1;33m\u001b[0m\u001b[0m\n\u001b[0;32m   7109\u001b[0m \u001b[1;33m\u001b[0m\u001b[0m\n",
      "\u001b[1;31mInvalidArgumentError\u001b[0m: cannot compute AddV2 as input #1(zero-based) was expected to be a int32 tensor but is a float tensor [Op:AddV2]"
     ]
    }
   ],
   "source": []
  },
  {
   "cell_type": "code",
   "execution_count": null,
   "metadata": {},
   "outputs": [],
   "source": []
  }
 ],
 "metadata": {
  "accelerator": "GPU",
  "colab": {
   "collapsed_sections": [],
   "name": "Sentiment analysis with 1.6 million tweets.ipynb",
   "provenance": []
  },
  "kernelspec": {
   "display_name": "Python 3",
   "language": "python",
   "name": "python3"
  },
  "language_info": {
   "codemirror_mode": {
    "name": "ipython",
    "version": 3
   },
   "file_extension": ".py",
   "mimetype": "text/x-python",
   "name": "python",
   "nbconvert_exporter": "python",
   "pygments_lexer": "ipython3",
   "version": "3.8.5"
  }
 },
 "nbformat": 4,
 "nbformat_minor": 1
}
